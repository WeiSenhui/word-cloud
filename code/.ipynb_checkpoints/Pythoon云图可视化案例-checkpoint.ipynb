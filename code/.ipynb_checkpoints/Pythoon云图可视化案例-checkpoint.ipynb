{
 "cells": [
  {
   "cell_type": "markdown",
   "metadata": {},
   "source": [
    "# 词云示例：简单图云"
   ]
  },
  {
   "cell_type": "code",
   "execution_count": 5,
   "metadata": {
    "scrolled": true
   },
   "outputs": [
    {
     "data": {
      "text/plain": [
       "<wordcloud.wordcloud.WordCloud at 0x116d73590>"
      ]
     },
     "execution_count": 5,
     "metadata": {},
     "output_type": "execute_result"
    }
   ],
   "source": [
    "# %load code1.py 运行后导入同目录下的code1.py或md文件内容\n",
    "\"\"\"\n",
    "@Author : Wilson79\n",
    "@Date   : 2020年2月9日 星期日 12:28:04\n",
    "\"\"\"\n",
    "\n",
    "# 导入wordcloud词云制作库\n",
    "import wordcloud\n",
    "\n",
    "# 创建词云对象w,设置词云图片宽、高、字体、背景颜色等参数\n",
    "w = wordcloud.WordCloud(width=1500, height=1100, background_color='white',\n",
    "                        font_path='/System/Library/fonts/PingFang.ttc')\n",
    "\n",
    "# 调用词云对象的generate方法，将文本作为参数传入\n",
    "w.generate(\n",
    "    'Give up worrying about what others think of you。What they think isn’t important. What is important is how you feel about yourself.')\n",
    "\n",
    "# 将生成的词云保存为picture1.png文件，且保存到当前文件夹中\n",
    "w.to_file('picture1.png')\n"
   ]
  },
  {
   "cell_type": "markdown",
   "metadata": {},
   "source": [
    "jieba中文分词原理\n",
    "如`课本和书籍`,jieba词库中会看`课`后面的词哪些词出现的概率高，发现出现`本`的概率高，所以把它们两个结合在一起，而`本`与`和`在词库中作为分词出现概率很低，所以没有结合在一起"
   ]
  },
  {
   "cell_type": "markdown",
   "metadata": {},
   "source": [
    "导入imageio库中的imread函数，用这个函数读取本地图片，作为词云形状图片（图片一定要求是白底的，所以要先抠图，把背景抠成白色，网上有一键抠图的软件[传送门](https://www.gaoding.com/koutu)）"
   ]
  },
  {
   "cell_type": "markdown",
   "metadata": {},
   "source": [
    "参数说明\n",
    "width 词云图片宽度， 默认400像素\n",
    "height 词云图片高度 默认200像素\n",
    "background_color 词云图片的背景颜色，默认黑色\n",
    "\n",
    "mask词云形状 \n",
    "```\n",
    "import imageio\n",
    "mk = imageio.imread(\"map.png\")\n",
    "\n",
    "加参数mask=mk\n",
    "```\n",
    "font_path指定路径\n",
    "Mac设置font_path='/System/Library/fonts/PingFang.ttc'\n",
    "Win设置font_path='msyh.ttc'\n",
    "\n",
    "scale默认为1，值越大，图像越清晰\n",
    "prefer_horizotal默认值0.9，表示水平如果不合适，就选择为垂直方向，水平放置的词数占90%\n",
    "\n",
    "stopwords={'sad','tired'} # 生成的图云不会包含这几个词\n",
    "\n",
    "\n",
    "contour_width 设置轮廓宽度 `contour_width=1`\n",
    "contour_color 设置轮廓颜色`contour_color = 'blue'`\n",
    "建议scale值小一点，这样轮廓效果好"
   ]
  }
 ],
 "metadata": {
  "kernelspec": {
   "display_name": "Python 3",
   "language": "python",
   "name": "python3"
  },
  "language_info": {
   "codemirror_mode": {
    "name": "ipython",
    "version": 3
   },
   "file_extension": ".py",
   "mimetype": "text/x-python",
   "name": "python",
   "nbconvert_exporter": "python",
   "pygments_lexer": "ipython3",
   "version": "3.7.6"
  },
  "toc": {
   "base_numbering": 1,
   "nav_menu": {},
   "number_sections": true,
   "sideBar": true,
   "skip_h1_title": false,
   "title_cell": "Table of Contents",
   "title_sidebar": "Contents",
   "toc_cell": false,
   "toc_position": {},
   "toc_section_display": true,
   "toc_window_display": false
  }
 },
 "nbformat": 4,
 "nbformat_minor": 4
}
